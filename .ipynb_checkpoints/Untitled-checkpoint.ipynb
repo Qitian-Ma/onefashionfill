{
 "cells": [
  {
   "cell_type": "code",
   "execution_count": null,
   "id": "3315574f-59c4-45d3-b474-1af09b603164",
   "metadata": {},
   "outputs": [],
   "source": [
    "import streamlit as st\n",
    "import pandas as pd\n",
    "\n",
    "import sys\n",
    "sys.path.append(r'C:\\Users\\anaconda3\\envs\\streamlitapp\\Lib\\site-packages')\n",
    "\n",
    "import PyPDF2\n",
    "from PyPDF2 import PdfReader, PdfWriter\n"
   ]
  },
  {
   "cell_type": "code",
   "execution_count": null,
   "id": "d4de67ff-aad3-4f92-ba7b-d1a2c5625660",
   "metadata": {},
   "outputs": [],
   "source": [
    "import PyPDF2\n",
    "\n",
    "# Open the PDF file\n",
    "pdf_file = open('carta_della_famiglia_adobe.pdf', 'rb')\n",
    "\n",
    "# Initialize a PdfReader object\n",
    "pdf_reader = PyPDF2.PdfReader(pdf_file)\n",
    "\n",
    "# Get the form fields\n",
    "fields = pdf_reader.get_form_text_fields()\n",
    "\n",
    "field_ls = []\n",
    "# Print the field names and their values\n",
    "for field_name, value in fields.items():\n",
    "    print(f\"Field Name: {field_name} | Value: {value}\")\n",
    "    field_ls.append(field_name)"
   ]
  },
  {
   "cell_type": "code",
   "execution_count": 6,
   "id": "53714da5-0ed2-4b18-9742-e8a731f921b5",
   "metadata": {},
   "outputs": [
    {
     "data": {
      "text/plain": [
       "['INDIRIZZO',\n",
       " 'CELLULARE',\n",
       " 'EMAIL',\n",
       " 'COGNOME',\n",
       " 'NOME',\n",
       " 'CODICE_FISCALE',\n",
       " 'SESSO_M',\n",
       " 'SESSO_F',\n",
       " 'CARTA_N',\n",
       " 'DATA_DI_NASCITA',\n",
       " 'INFO_NO',\n",
       " 'Data_PRIVACY',\n",
       " 'Firma_PRIVACY',\n",
       " 'Data_INFO',\n",
       " 'Firma_INFO',\n",
       " 'CITTA',\n",
       " 'PROVINCIA',\n",
       " 'CAP',\n",
       " 'PRIVACY_NO',\n",
       " 'INFO_SI',\n",
       " 'PRIVACY_SI']"
      ]
     },
     "execution_count": 6,
     "metadata": {},
     "output_type": "execute_result"
    }
   ],
   "source": [
    "field_ls"
   ]
  },
  {
   "cell_type": "code",
   "execution_count": 14,
   "id": "690e4068-9b9c-4327-ae95-d2e733b99802",
   "metadata": {},
   "outputs": [],
   "source": [
    "# # Open the original PDF\n",
    "# with open(\"carta_della_famiglia_filled.pdf\", \"rb\") as infile:\n",
    "#     reader = PdfReader(infile)\n",
    "#     writer = PdfWriter()\n",
    "\n",
    "#     # Copy all pages from reader to writer\n",
    "#     for page in reader.pages:\n",
    "#         writer.add_page(page)\n",
    "\n",
    "#     # Update form fields\n",
    "#     writer.update_page_form_field_values(writer.pages[0], {\n",
    "#         fields_df['name'][1]: str(record[\"Fecha\"].values[0]),\n",
    "#         fields_df['name'][2]: str(record[\"Proveedor\"].values[0]),\n",
    "#         fields_df['name'][3]: str(record[\"Marca\"].values[0]),\n",
    "#         fields_df['name'][9]: str(record[\"Nombre de la Empresa\"].values[0]),\n",
    "#         fields_df['name'][10]: str(record[\"Direccion\"].values[0]),\n",
    "#         fields_df['name'][11]: str(record[\"Cif\"].values[0]),\n",
    "#         fields_df['name'][12]: str(record[\"Telefono\"].values[0]),\n",
    "#         fields_df['name'][13]: str(record[\"Fax\"].values[0]),\n",
    "#         fields_df['name'][14]: str(record[\"Contacto Comercial\"].values[0]),\n",
    "#         fields_df['name'][15]: str(record[\"Email Comercial\"].values[0]),\n",
    "#         fields_df['name'][16]: str(record[\"Telefono Comercial\"].values[0])\n",
    "#     })\n",
    "\n",
    "#     # Write out the updated PDF\n",
    "#     with open(\"updated_example.pdf\", \"wb\") as outfile:\n",
    "#         writer.write(outfile)\n",
    "    "
   ]
  },
  {
   "cell_type": "code",
   "execution_count": 16,
   "id": "fc932188-f404-47b0-ad32-f4b7c8cb55db",
   "metadata": {},
   "outputs": [],
   "source": [
    "fields_df = pd.DataFrame({\"name\": [\"text_4furb\"]})"
   ]
  },
  {
   "cell_type": "code",
   "execution_count": 18,
   "id": "47e316bc-09b0-4f27-8a00-fda80288cc4d",
   "metadata": {},
   "outputs": [
    {
     "data": {
      "text/plain": [
       "'text_4furb'"
      ]
     },
     "execution_count": 18,
     "metadata": {},
     "output_type": "execute_result"
    }
   ],
   "source": [
    "fields_df['name'][0]"
   ]
  },
  {
   "cell_type": "code",
   "execution_count": 7,
   "id": "ff17582b-d25d-4618-9827-0a2e54d23263",
   "metadata": {},
   "outputs": [],
   "source": [
    "import pikepdf"
   ]
  },
  {
   "cell_type": "code",
   "execution_count": 11,
   "id": "c6f9d2c3-01de-49b2-ab2c-4f7e80fe39da",
   "metadata": {},
   "outputs": [
    {
     "name": "stdout",
     "output_type": "stream",
     "text": [
      "0\n"
     ]
    }
   ],
   "source": [
    "with open(\"carta_della_famiglia_adobe.pdf\", \"rb\") as infile:\n",
    "    reader = PdfReader(infile)\n",
    "    writer = PdfWriter()\n",
    "\n",
    "    # Copy all pages from reader to writer\n",
    "    for n_page, page in enumerate(reader.pages):\n",
    "        print(n_page)\n",
    "        writer.add_page(page)\n",
    "\n",
    "    # Update form fields\n",
    "    writer.update_page_form_field_values(writer.pages[0], {\n",
    "        \"INDIRIZZO\": str(\"my address\")\n",
    "    })\n",
    "    for page in writer.pages:\n",
    "        if \"/Annots\" in page:\n",
    "            for annot in page[\"/Annots\"]:\n",
    "                annot_obj = annot.get_object()\n",
    "                if \"/V\" in annot_obj:\n",
    "                    annot_obj.update({\n",
    "                        \"/AP\": annot_obj[\"/V\"]\n",
    "                    })\n",
    "                    \n",
    "    with open(\"updated_example.pdf\", \"wb\") as outfile:\n",
    "        writer.write(outfile)\n",
    "with pikepdf.open(\"updated_example.pdf\") as pdf:\n",
    "    pdf.save(\"flattened_form.pdf\")"
   ]
  },
  {
   "cell_type": "code",
   "execution_count": 23,
   "id": "24ea04ba-718f-4158-8164-17559e7807a9",
   "metadata": {},
   "outputs": [],
   "source": [
    "import PyPDF2\n",
    "\n",
    "# Open the PDF file\n",
    "pdf_file = open('flattened_form.pdf', 'rb')\n",
    "\n",
    "# Initialize a PdfReader object\n",
    "pdf_reader = PyPDF2.PdfReader(pdf_file)\n",
    "\n",
    "# Get the form fields\n",
    "fields = pdf_reader.get_form_text_fields()\n",
    "\n",
    "field_ls = []\n",
    "# Print the field names and their values\n",
    "for field_name, value in fields.items():\n",
    "    print(f\"Field Name: {field_name} | Value: {value}\")\n",
    "    field_ls.append(field_name)"
   ]
  },
  {
   "cell_type": "code",
   "execution_count": 25,
   "id": "f069ce1d-8056-45de-8d60-5404faf71915",
   "metadata": {},
   "outputs": [
    {
     "data": {
      "text/plain": [
       "{}"
      ]
     },
     "execution_count": 25,
     "metadata": {},
     "output_type": "execute_result"
    }
   ],
   "source": [
    "fields"
   ]
  },
  {
   "cell_type": "code",
   "execution_count": 17,
   "id": "d3004e0c-3b05-4963-acdb-f23d4b9bf8ce",
   "metadata": {},
   "outputs": [],
   "source": [
    "with pdfplumber.open(\"flattened_form.pdf\") as pdf:\n",
    "    for page in pdf.pages:\n",
    "        annotations = page.annots\n",
    "        if annotations:\n",
    "            for annotation in annotations:\n",
    "                field_name = annotation.get(\"FieldName\")\n",
    "                field_value = annotation.get(\"FieldValue\")\n",
    "                if field_name:\n",
    "                    print(f\"{field_name}: {field_value}\")"
   ]
  },
  {
   "cell_type": "code",
   "execution_count": 15,
   "id": "7d1293f9-e151-424a-9026-62d3b2dcf5fd",
   "metadata": {},
   "outputs": [],
   "source": [
    "import pdfplumber"
   ]
  },
  {
   "cell_type": "code",
   "execution_count": 23,
   "id": "111850ae-20d9-477a-9a7c-01e4a05fb0ea",
   "metadata": {},
   "outputs": [],
   "source": [
    "with pdfplumber.open(\"updated_example.pdf\") as pdf:\n",
    "    for page in pdf.pages:\n",
    "        annotations = page.annots\n",
    "        if annotations:\n",
    "            for annotation in annotations:\n",
    "                field_name = annotation.get(\"FieldName\")\n",
    "                field_value = annotation.get(\"FieldValue\")\n",
    "                if field_name:\n",
    "                    print(f\"{field_name}: {field_value}\")"
   ]
  },
  {
   "cell_type": "code",
   "execution_count": 9,
   "id": "802da078-4760-4155-bdf1-ca16e121f6fa",
   "metadata": {},
   "outputs": [],
   "source": [
    "with open(\"carta_della_famiglia_.pdf\", \"rb\") as infile:\n",
    "    reader = PdfReader(infile)\n",
    "    writer = PdfWriter()\n",
    "\n",
    "    # Copy all pages from reader to writer\n",
    "    for page in reader.pages:\n",
    "        writer.add_page(page)\n",
    "\n",
    "    # Update form fields\n",
    "    writer.update_page_form_field_values(writer.pages[0], {\n",
    "        \"COGNOME\": str(\"hello\")\n",
    "    })\n",
    "\n",
    "    # Write out the updated PDF\n",
    "    with open(\"updated_example2.pdf\", \"wb\") as outfile:\n",
    "        writer.write(outfile)"
   ]
  },
  {
   "cell_type": "code",
   "execution_count": null,
   "id": "3a71a0d4-4b7c-4de2-a9d8-fa2519030dcc",
   "metadata": {},
   "outputs": [],
   "source": []
  }
 ],
 "metadata": {
  "kernelspec": {
   "display_name": "Python 3 (ipykernel)",
   "language": "python",
   "name": "python3"
  },
  "language_info": {
   "codemirror_mode": {
    "name": "ipython",
    "version": 3
   },
   "file_extension": ".py",
   "mimetype": "text/x-python",
   "name": "python",
   "nbconvert_exporter": "python",
   "pygments_lexer": "ipython3",
   "version": "3.12.4"
  }
 },
 "nbformat": 4,
 "nbformat_minor": 5
}
