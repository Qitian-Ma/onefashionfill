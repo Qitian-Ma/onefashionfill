import streamlit as st
import pandas as pd
import PyPDF2
from PyPDF2 import PdfReader, PdfWriter


# Open the original PDF
with open("carta_della_famiglia_filled.pdf", "rb") as infile:
    reader = PdfReader(infile)
    writer = PdfWriter()

    # Copy all pages from reader to writer
    for page in reader.pages:
        writer.add_page(page)

    # Update form fields
    writer.update_page_form_field_values(writer.pages[0], {
        fields_df['name'][1]: str(record["Fecha"].values[0]),
        fields_df['name'][2]: str(record["Proveedor"].values[0]),
        fields_df['name'][3]: str(record["Marca"].values[0]),
        fields_df['name'][9]: str(record["Nombre de la Empresa"].values[0]),
        fields_df['name'][10]: str(record["Direccion"].values[0]),
        fields_df['name'][11]: str(record["Cif"].values[0]),
        fields_df['name'][12]: str(record["Telefono"].values[0]),
        fields_df['name'][13]: str(record["Fax"].values[0]),
        fields_df['name'][14]: str(record["Contacto Comercial"].values[0]),
        fields_df['name'][15]: str(record["Email Comercial"].values[0]),
        fields_df['name'][16]: str(record["Telefono Comercial"].values[0])
    })

    # Write out the updated PDF
    with open("updated_example.pdf", "wb") as outfile:
        writer.write(outfile)
    


records_df



