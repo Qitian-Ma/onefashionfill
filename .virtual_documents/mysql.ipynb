import sys
sys.path.append(r"C:\Users\anaconda3\envs\streamlitapp\Lib\site-packages")


import mysql


import mysql.connector
from mysql.connector import Error



host = "sql8.freesqldatabase.com"
database = "sql8759807"
user = "sql8759807"
password = "QfIfIBAswz"
port = 3306


connection = mysql.connector.connect(
        host=host,
        database=database,
        user=user,
        password=password,
        port=port
    )


connection.is_connected()


import mysql.connector
from mysql.connector import Error

# Connection details
host = "sql8.freesqldatabase.com"
database = "sql8759807"
user = "sql8759807"
password = "QfIfIBAswz"
port = 3306


try:
    # Establish the connection
    connection = mysql.connector.connect(
        host=host,
        database=database,
        user=user,
        password=password,
        port=port
    )

    if connection.is_connected():
        print("Successfully connected to the database")
        
        # Get database information
        db_info = connection.get_server_info()
        print(f"MySQL Server version: {db_info}")

        # Example query
        cursor = connection.cursor()
        cursor.execute("SELECT DATABASE();")
        record = cursor.fetchone()
        print(f"Connected to database: {record}")

except Error as e:
    print(f"Error while connecting to MySQL: {e}")

finally:
    # Close the connection
    if 'connection' in locals() and connection.is_connected():
        cursor.close()
        connection.close()
        print("MySQL connection is closed")






import mysql.connector
from mysql.connector import Error

host = "sql8.freesqldatabase.com"
database = "sql8759691"
user = "sql8759691"
password = "haZBaSi6jT"
port = 3306

try:
    # Connect to MySQL
    connection = mysql.connector.connect(
        host=host,
        database=database,
        user=user,
        password=password,
        port=port
    )

    if connection.is_connected():
        print("Connected to the database")

        # Create a cursor
        cursor = connection.cursor()

        # SQL query to create a table
        create_table_query = """
CREATE TABLE IF NOT EXISTS users (
    id_carta VARCHAR(255) PRIMARY KEY,
    firstname VARCHAR(100),
    lastname VARCHAR(100),
    codice_fiscale VARCHAR(50) UNIQUE,
    sex ENUM('M', 'F'),
    birthdate DATE,
    address TEXT,
    city VARCHAR(100),
    province VARCHAR(100),
    postalcode INT,
    phonenumber VARCHAR(20),
    email VARCHAR(255),
    info BOOLEAN DEFAULT TRUE
);

        """

        # Execute the query
        cursor.execute(create_table_query)

finally:
    # Close the connection
    if 'connection' in locals() and connection.is_connected():
        cursor.close()
        connection.close()






import mysql.connector
from mysql.connector import Error

# Connection details
host = "sql8.freesqldatabase.com"
database = "sql8759691"
user = "sql8759691"
password = "haZBaSi6jT"
port = 3306

try:
    # Connect to MySQL
    connection = mysql.connector.connect(
        host=host,
        database=database,
        user=user,
        password=password,
        port=port
    )

    if connection.is_connected():
        print("Connected to the database")

        # Create a cursor
        cursor = connection.cursor()

        # SQL query to create a table
        create_table_query = """
        CREATE TABLE employees (
            id INT AUTO_INCREMENT PRIMARY KEY,
            name VARCHAR(100) NOT NULL,
            age INT NOT NULL,
            department VARCHAR(50)
        );
        """

        # Execute the query
        cursor.execute(create_table_query)
        print("Table 'employees' created successfully")

except Error as e:
    print(f"Error: {e}")

finally:
    # Close the connection
    if 'connection' in locals() and connection.is_connected():
        cursor.close()
        connection.close()
        print("MySQL connection is closed")


import mysql.connector
from mysql.connector import Error

# Connection details
host = "sql8.freesqldatabase.com"
database = "sql8759691"
user = "sql8759691"
password = "haZBaSi6jT"
port = 3306

try:
    # Connect to MySQL
    connection = mysql.connector.connect(
        host=host,
        database=database,
        user=user,
        password=password,
        port=port
    )

    if connection.is_connected():
        print("Connected to the database")

        # Create a cursor
        cursor = connection.cursor()

        # SQL query to insert data
        insert_query = """
        INSERT INTO employees (name, age, department)
        VALUES (%s, %s, %s);
        """
        
        # Data to insert
        employee_data = ("John Doe", 30, "HR")

        # Execute the query
        cursor.execute(insert_query, employee_data)

        # Commit the transaction
        connection.commit()

        print(f"Record inserted successfully. ID: {cursor.lastrowid}")

except Error as e:
    print(f"Error: {e}")

finally:
    # Close the connection
    if 'connection' in locals() and connection.is_connected():
        cursor.close()
        connection.close()
        print("MySQL connection is closed")



import sys
sys.path.append(r"C:\Users\anaconda3\envs\streamlitapp\Lib\site-packages")


import mysql
import mysql.connector
from mysql.connector import Error


import mysql.connector

# Database connection details
host = "sql8.freesqldatabase.com"
database = "sql8759807"
user = "sql8759807"
password = "QfIfIBAswz"
port = 3306

try:
    # Connect to the MySQL database
    connection = mysql.connector.connect(
        host=host,
        user=user,
        password=password,
        database=database,
        port=port
    )

    # Create a cursor object
    cursor = connection.cursor()

    # SQL query to list all tables
    cursor.execute("SHOW TABLES")

    # Fetch and print the tables
    print("Existing tables in the database:")
    for table in cursor.fetchall():
        print(table[0])

except mysql.connector.Error as err:
    print(f"Error: {err}")

finally:
    # Close the connection
    if connection.is_connected():
        cursor.close()
        connection.close()





