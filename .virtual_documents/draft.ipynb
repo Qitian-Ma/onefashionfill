import streamlit as st
import pandas as pd

import sys
sys.path.append(r'C:\Users\anaconda3\envs\streamlitapp\Lib\site-packages')

import PyPDF2
from PyPDF2 import PdfReader, PdfWriter



import PyPDF2

# Open the PDF file
pdf_file = open('carta_della_famiglia_adobe.pdf', 'rb')

# Initialize a PdfReader object
pdf_reader = PyPDF2.PdfReader(pdf_file)

# Get the form fields
fields = pdf_reader.get_form_text_fields()

field_ls = []
# Print the field names and their values
for field_name, value in fields.items():
    print(f"Field Name: {field_name} | Value: {value}")
    field_ls.append(field_name)


import PyPDF2

# Open the PDF file
pdf_file = open('francesco_sargen_maxjfij3fs.pdf', 'rb')

# Initialize a PdfReader object
pdf_reader = PyPDF2.PdfReader(pdf_file)

# Get the form fields
fields = pdf_reader.get_form_text_fields()

field_ls = []
# Print the field names and their values
for field_name, value in fields.items():
    print(f"Field Name: {field_name} | Value: {value}")
    field_ls.append(field_name)


with open('francesco_sargen_maxjfij3fs.pdf', 'rb') as pdf_file:
    reader = PyPDF2.PdfReader(pdf_file)
    
    # Check for AcroForm in the PDF
    if '/AcroForm' in reader.trailer['/Root']:
        fields = reader.trailer['/Root']['/AcroForm']['/Fields']
        filled_data = {}
        
        for field in fields:
            field_data = field.get_object()
            field_name = field_data.get('/T')  # Field name
            field_value = field_data.get('/V')  # Field value
            filled_data[field_name] = field_value
        
        print("Filled Fields and Values:")
        for key, value in filled_data.items():
            print(f"{key}: {value}")
    else:
        print("No AcroForm fields found in the PDF.")


# # Open the original PDF
# with open("carta_della_famiglia_filled.pdf", "rb") as infile:
#     reader = PdfReader(infile)
#     writer = PdfWriter()

#     # Copy all pages from reader to writer
#     for page in reader.pages:
#         writer.add_page(page)

#     # Update form fields
#     writer.update_page_form_field_values(writer.pages[0], {
#         fields_df['name'][1]: str(record["Fecha"].values[0]),
#         fields_df['name'][2]: str(record["Proveedor"].values[0]),
#         fields_df['name'][3]: str(record["Marca"].values[0]),
#         fields_df['name'][9]: str(record["Nombre de la Empresa"].values[0]),
#         fields_df['name'][10]: str(record["Direccion"].values[0]),
#         fields_df['name'][11]: str(record["Cif"].values[0]),
#         fields_df['name'][12]: str(record["Telefono"].values[0]),
#         fields_df['name'][13]: str(record["Fax"].values[0]),
#         fields_df['name'][14]: str(record["Contacto Comercial"].values[0]),
#         fields_df['name'][15]: str(record["Email Comercial"].values[0]),
#         fields_df['name'][16]: str(record["Telefono Comercial"].values[0])
#     })

#     # Write out the updated PDF
#     with open("updated_example.pdf", "wb") as outfile:
#         writer.write(outfile)
    


fields_df = pd.DataFrame({"name": ["text_4furb"]})


fields_df['name'][0]


import pikepdf


with open("carta_della_famiglia_adobe.pdf", "rb") as infile:
    reader = PdfReader(infile)
    writer = PdfWriter()

    # Copy all pages from reader to writer
    for n_page, page in enumerate(reader.pages):
        print(n_page)
        writer.add_page(page)

    # Update form fields
    writer.update_page_form_field_values(writer.pages[0], {
        "INDIRIZZO": str("my address")
    })
    for page in writer.pages:
        if "/Annots" in page:
            for annot in page["/Annots"]:
                annot_obj = annot.get_object()
                if "/V" in annot_obj:
                    annot_obj.update({
                        "/AP": annot_obj["/V"]
                    })
                    
    with open("updated_example.pdf", "wb") as outfile:
        writer.write(outfile)
with pikepdf.open("updated_example.pdf") as pdf:
    pdf.save("flattened_form.pdf")


import PyPDF2

# Open the PDF file
pdf_file = open('flattened_form.pdf', 'rb')

# Initialize a PdfReader object
pdf_reader = PyPDF2.PdfReader(pdf_file)

# Get the form fields
fields = pdf_reader.get_form_text_fields()

field_ls = []
# Print the field names and their values
for field_name, value in fields.items():
    print(f"Field Name: {field_name} | Value: {value}")
    field_ls.append(field_name)


fields


with pdfplumber.open("flattened_form.pdf") as pdf:
    for page in pdf.pages:
        annotations = page.annots
        if annotations:
            for annotation in annotations:
                field_name = annotation.get("FieldName")
                field_value = annotation.get("FieldValue")
                if field_name:
                    print(f"{field_name}: {field_value}")


import pdfplumber


with pdfplumber.open("updated_example.pdf") as pdf:
    for page in pdf.pages:
        annotations = page.annots
        if annotations:
            for annotation in annotations:
                field_name = annotation.get("FieldName")
                field_value = annotation.get("FieldValue")
                if field_name:
                    print(f"{field_name}: {field_value}")


with open("carta_della_famiglia_.pdf", "rb") as infile:
    reader = PdfReader(infile)
    writer = PdfWriter()

    # Copy all pages from reader to writer
    for page in reader.pages:
        writer.add_page(page)

    # Update form fields
    writer.update_page_form_field_values(writer.pages[0], {
        "COGNOME": str("hello")
    })

    # Write out the updated PDF
    with open("updated_example2.pdf", "wb") as outfile:
        writer.write(outfile)



