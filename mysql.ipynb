{
 "cells": [
  {
   "cell_type": "code",
   "execution_count": 3,
   "id": "29c51b8a-c50e-4692-8274-8e313cdcbf69",
   "metadata": {},
   "outputs": [],
   "source": [
    "import sys\n",
    "sys.path.append(r\"C:\\Users\\anaconda3\\envs\\streamlitapp\\Lib\\site-packages\")"
   ]
  },
  {
   "cell_type": "code",
   "execution_count": 5,
   "id": "2640e6c0-1283-44b6-8673-a03402cc920e",
   "metadata": {},
   "outputs": [],
   "source": [
    "import mysql"
   ]
  },
  {
   "cell_type": "code",
   "execution_count": 7,
   "id": "704a6908-624c-413a-8780-6ac26daafe25",
   "metadata": {},
   "outputs": [],
   "source": [
    "import mysql.connector\n",
    "from mysql.connector import Error\n"
   ]
  },
  {
   "cell_type": "code",
   "execution_count": 8,
   "id": "a395c928-ad06-4494-9074-9a3a46325b49",
   "metadata": {},
   "outputs": [],
   "source": [
    "host = \"sql8.freesqldatabase.com\"\n",
    "database = \"sql8759807\"\n",
    "user = \"sql8759807\"\n",
    "password = \"QfIfIBAswz\"\n",
    "port = 3306"
   ]
  },
  {
   "cell_type": "code",
   "execution_count": null,
   "id": "778ba030-d907-47a2-9d94-4c3ae3a81120",
   "metadata": {},
   "outputs": [],
   "source": [
    "connection = mysql.connector.connect(\n",
    "        host=host,\n",
    "        database=database,\n",
    "        user=user,\n",
    "        password=password,\n",
    "        port=port\n",
    "    )"
   ]
  },
  {
   "cell_type": "code",
   "execution_count": null,
   "id": "9da8bab5-6395-44a9-abd3-bc1c620e7937",
   "metadata": {},
   "outputs": [],
   "source": [
    "connection.is_connected()"
   ]
  },
  {
   "cell_type": "code",
   "execution_count": null,
   "id": "6aaa7e9d-9716-4db3-a54b-bbf1093513d7",
   "metadata": {},
   "outputs": [],
   "source": [
    "import mysql.connector\n",
    "from mysql.connector import Error\n",
    "\n",
    "# Connection details\n",
    "host = \"sql8.freesqldatabase.com\"\n",
    "database = \"sql8759807\"\n",
    "user = \"sql8759807\"\n",
    "password = \"QfIfIBAswz\"\n",
    "port = 3306\n",
    "\n",
    "\n",
    "try:\n",
    "    # Establish the connection\n",
    "    connection = mysql.connector.connect(\n",
    "        host=host,\n",
    "        database=database,\n",
    "        user=user,\n",
    "        password=password,\n",
    "        port=port\n",
    "    )\n",
    "\n",
    "    if connection.is_connected():\n",
    "        print(\"Successfully connected to the database\")\n",
    "        \n",
    "        # Get database information\n",
    "        db_info = connection.get_server_info()\n",
    "        print(f\"MySQL Server version: {db_info}\")\n",
    "\n",
    "        # Example query\n",
    "        cursor = connection.cursor()\n",
    "        cursor.execute(\"SELECT DATABASE();\")\n",
    "        record = cursor.fetchone()\n",
    "        print(f\"Connected to database: {record}\")\n",
    "\n",
    "except Error as e:\n",
    "    print(f\"Error while connecting to MySQL: {e}\")\n",
    "\n",
    "finally:\n",
    "    # Close the connection\n",
    "    if 'connection' in locals() and connection.is_connected():\n",
    "        cursor.close()\n",
    "        connection.close()\n",
    "        print(\"MySQL connection is closed\")\n"
   ]
  },
  {
   "cell_type": "code",
   "execution_count": null,
   "id": "901df502-2055-4fda-8a37-9feead5addeb",
   "metadata": {},
   "outputs": [],
   "source": []
  },
  {
   "cell_type": "code",
   "execution_count": 5,
   "id": "e8a5b2b7-7da5-46e7-b38c-9a55322689f2",
   "metadata": {},
   "outputs": [
    {
     "name": "stdout",
     "output_type": "stream",
     "text": [
      "Connected to the database\n"
     ]
    }
   ],
   "source": [
    "import mysql.connector\n",
    "from mysql.connector import Error\n",
    "\n",
    "host = \"sql8.freesqldatabase.com\"\n",
    "database = \"sql8759691\"\n",
    "user = \"sql8759691\"\n",
    "password = \"haZBaSi6jT\"\n",
    "port = 3306\n",
    "\n",
    "try:\n",
    "    # Connect to MySQL\n",
    "    connection = mysql.connector.connect(\n",
    "        host=host,\n",
    "        database=database,\n",
    "        user=user,\n",
    "        password=password,\n",
    "        port=port\n",
    "    )\n",
    "\n",
    "    if connection.is_connected():\n",
    "        print(\"Connected to the database\")\n",
    "\n",
    "        # Create a cursor\n",
    "        cursor = connection.cursor()\n",
    "\n",
    "        # SQL query to create a table\n",
    "        create_table_query = \"\"\"\n",
    "CREATE TABLE IF NOT EXISTS users (\n",
    "    id_carta VARCHAR(255) PRIMARY KEY,\n",
    "    firstname VARCHAR(100),\n",
    "    lastname VARCHAR(100),\n",
    "    codice_fiscale VARCHAR(50) UNIQUE,\n",
    "    sex ENUM('M', 'F'),\n",
    "    birthdate DATE,\n",
    "    address TEXT,\n",
    "    city VARCHAR(100),\n",
    "    province VARCHAR(100),\n",
    "    postalcode INT,\n",
    "    phonenumber VARCHAR(20),\n",
    "    email VARCHAR(255),\n",
    "    info BOOLEAN DEFAULT TRUE\n",
    ");\n",
    "\n",
    "        \"\"\"\n",
    "\n",
    "        # Execute the query\n",
    "        cursor.execute(create_table_query)\n",
    "\n",
    "finally:\n",
    "    # Close the connection\n",
    "    if 'connection' in locals() and connection.is_connected():\n",
    "        cursor.close()\n",
    "        connection.close()\n"
   ]
  },
  {
   "cell_type": "code",
   "execution_count": null,
   "id": "78b62994-d3db-4a25-ba41-ebc90c10b5fb",
   "metadata": {},
   "outputs": [],
   "source": []
  },
  {
   "cell_type": "code",
   "execution_count": 8,
   "id": "2d7a5657-321c-4a7b-82dc-8236be4f4cb3",
   "metadata": {},
   "outputs": [
    {
     "name": "stdout",
     "output_type": "stream",
     "text": [
      "Connected to the database\n",
      "Table 'employees' created successfully\n",
      "MySQL connection is closed\n"
     ]
    }
   ],
   "source": [
    "import mysql.connector\n",
    "from mysql.connector import Error\n",
    "\n",
    "# Connection details\n",
    "host = \"sql8.freesqldatabase.com\"\n",
    "database = \"sql8759691\"\n",
    "user = \"sql8759691\"\n",
    "password = \"haZBaSi6jT\"\n",
    "port = 3306\n",
    "\n",
    "try:\n",
    "    # Connect to MySQL\n",
    "    connection = mysql.connector.connect(\n",
    "        host=host,\n",
    "        database=database,\n",
    "        user=user,\n",
    "        password=password,\n",
    "        port=port\n",
    "    )\n",
    "\n",
    "    if connection.is_connected():\n",
    "        print(\"Connected to the database\")\n",
    "\n",
    "        # Create a cursor\n",
    "        cursor = connection.cursor()\n",
    "\n",
    "        # SQL query to create a table\n",
    "        create_table_query = \"\"\"\n",
    "        CREATE TABLE employees (\n",
    "            id INT AUTO_INCREMENT PRIMARY KEY,\n",
    "            name VARCHAR(100) NOT NULL,\n",
    "            age INT NOT NULL,\n",
    "            department VARCHAR(50)\n",
    "        );\n",
    "        \"\"\"\n",
    "\n",
    "        # Execute the query\n",
    "        cursor.execute(create_table_query)\n",
    "        print(\"Table 'employees' created successfully\")\n",
    "\n",
    "except Error as e:\n",
    "    print(f\"Error: {e}\")\n",
    "\n",
    "finally:\n",
    "    # Close the connection\n",
    "    if 'connection' in locals() and connection.is_connected():\n",
    "        cursor.close()\n",
    "        connection.close()\n",
    "        print(\"MySQL connection is closed\")"
   ]
  },
  {
   "cell_type": "code",
   "execution_count": 14,
   "id": "3f3195fe-53dd-436f-adb8-9a8a6bf624aa",
   "metadata": {},
   "outputs": [
    {
     "name": "stdout",
     "output_type": "stream",
     "text": [
      "Connected to the database\n",
      "Record inserted successfully. ID: 1\n",
      "MySQL connection is closed\n"
     ]
    }
   ],
   "source": [
    "import mysql.connector\n",
    "from mysql.connector import Error\n",
    "\n",
    "# Connection details\n",
    "host = \"sql8.freesqldatabase.com\"\n",
    "database = \"sql8759691\"\n",
    "user = \"sql8759691\"\n",
    "password = \"haZBaSi6jT\"\n",
    "port = 3306\n",
    "\n",
    "try:\n",
    "    # Connect to MySQL\n",
    "    connection = mysql.connector.connect(\n",
    "        host=host,\n",
    "        database=database,\n",
    "        user=user,\n",
    "        password=password,\n",
    "        port=port\n",
    "    )\n",
    "\n",
    "    if connection.is_connected():\n",
    "        print(\"Connected to the database\")\n",
    "\n",
    "        # Create a cursor\n",
    "        cursor = connection.cursor()\n",
    "\n",
    "        # SQL query to insert data\n",
    "        insert_query = \"\"\"\n",
    "        INSERT INTO employees (name, age, department)\n",
    "        VALUES (%s, %s, %s);\n",
    "        \"\"\"\n",
    "        \n",
    "        # Data to insert\n",
    "        employee_data = (\"John Doe\", 30, \"HR\")\n",
    "\n",
    "        # Execute the query\n",
    "        cursor.execute(insert_query, employee_data)\n",
    "\n",
    "        # Commit the transaction\n",
    "        connection.commit()\n",
    "\n",
    "        print(f\"Record inserted successfully. ID: {cursor.lastrowid}\")\n",
    "\n",
    "except Error as e:\n",
    "    print(f\"Error: {e}\")\n",
    "\n",
    "finally:\n",
    "    # Close the connection\n",
    "    if 'connection' in locals() and connection.is_connected():\n",
    "        cursor.close()\n",
    "        connection.close()\n",
    "        print(\"MySQL connection is closed\")\n"
   ]
  },
  {
   "cell_type": "code",
   "execution_count": 7,
   "id": "f24d81de-4ae2-4340-a87b-aa877a01a8bb",
   "metadata": {},
   "outputs": [],
   "source": [
    "import sys\n",
    "sys.path.append(r\"C:\\Users\\anaconda3\\envs\\streamlitapp\\Lib\\site-packages\")"
   ]
  },
  {
   "cell_type": "code",
   "execution_count": 5,
   "id": "a34dbc3b-cdee-4915-a912-e7b5e51c7c05",
   "metadata": {},
   "outputs": [],
   "source": [
    "import mysql\n",
    "import mysql.connector\n",
    "from mysql.connector import Error"
   ]
  },
  {
   "cell_type": "code",
   "execution_count": null,
   "id": "30501df2-f7aa-49fa-ae89-66f03408ab58",
   "metadata": {},
   "outputs": [],
   "source": [
    "import mysql.connector\n",
    "\n",
    "# Database connection details\n",
    "host = \"sql8.freesqldatabase.com\"\n",
    "database = \"sql8759807\"\n",
    "user = \"sql8759807\"\n",
    "password = \"QfIfIBAswz\"\n",
    "port = 3306\n",
    "\n",
    "try:\n",
    "    # Connect to the MySQL database\n",
    "    connection = mysql.connector.connect(\n",
    "        host=host,\n",
    "        user=user,\n",
    "        password=password,\n",
    "        database=database,\n",
    "        port=port\n",
    "    )\n",
    "\n",
    "    # Create a cursor object\n",
    "    cursor = connection.cursor()\n",
    "\n",
    "    # SQL query to list all tables\n",
    "    cursor.execute(\"SHOW TABLES\")\n",
    "\n",
    "    # Fetch and print the tables\n",
    "    print(\"Existing tables in the database:\")\n",
    "    for table in cursor.fetchall():\n",
    "        print(table[0])\n",
    "\n",
    "except mysql.connector.Error as err:\n",
    "    print(f\"Error: {err}\")\n",
    "\n",
    "finally:\n",
    "    # Close the connection\n",
    "    if connection.is_connected():\n",
    "        cursor.close()\n",
    "        connection.close()\n"
   ]
  },
  {
   "cell_type": "code",
   "execution_count": null,
   "id": "1fb7cfc8-2546-4a15-b748-5d92868968df",
   "metadata": {},
   "outputs": [],
   "source": [
    "\n"
   ]
  }
 ],
 "metadata": {
  "kernelspec": {
   "display_name": "Python 3 (ipykernel)",
   "language": "python",
   "name": "python3"
  },
  "language_info": {
   "codemirror_mode": {
    "name": "ipython",
    "version": 3
   },
   "file_extension": ".py",
   "mimetype": "text/x-python",
   "name": "python",
   "nbconvert_exporter": "python",
   "pygments_lexer": "ipython3",
   "version": "3.12.4"
  }
 },
 "nbformat": 4,
 "nbformat_minor": 5
}
